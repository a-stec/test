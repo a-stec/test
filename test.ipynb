#include <iostream>
#include <symengine/symengine/eval.h>
#include <symengine/symengine/symengine_config.h>
#include <symengine/symengine/sets.h>
#include <symengine/symengine.h>

using SymEngine::symbol;
using SymEngine::A;
using SymEngine::B;
using SymEngine::C;
using SymEngine::X;
using SymEngine::Y;
using SymEngine::Z;
using SymEngine::Not;
using SymEngine::And;
using SymEngine::Or;
using SymEngine::simplify;
using SymEngine::simplify_logic;

void first() {
    // A∨-(A∨-B)
    auto expression = Or(A, Not(Or(A, Not(B))));
    auto simplified_expression = simplify(expression);
    std::cout << "Упрощенное выражение: " << *simplified_expression << std::endl;
}

void second() {
    // A^-B∨B^C∨-A^-B
    auto expression = And(Or(And(A, Not(B)), Or(B, C), Not(And(A, Not(B))));
    auto simplified_expression = simplify(expression);
    std::cout << "Упрощенное выражение: " << *simplified_expression << std::endl;
}

void third() {
    //-(-(X^Y)^(X^-Y^Z∨-X^Y))
    auto expression = Not(And(Not(X), And(X, Not(Y), Or(Y, Not(Z))));
    auto dnf_expression = simplify_logic(expression, form='dnf');
    std::cout << "ДНФ выражение: " << *dnf_expression << std::endl;
}

int main() {
    first();
    second();
    third();
}


